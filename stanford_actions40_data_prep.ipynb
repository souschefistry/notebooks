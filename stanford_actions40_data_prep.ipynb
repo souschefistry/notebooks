{
 "cells": [
  {
   "cell_type": "code",
   "execution_count": 1,
   "metadata": {},
   "outputs": [],
   "source": [
    "# imports.py\n",
    "\n",
    "import glob\n",
    "import pandas as pd\n",
    "import os\n",
    "import matplotlib.pyplot as plt\n",
    "import numpy as np\n",
    "import PIL\n",
    "## https://github.com/keras-team/keras/issues/5475\n",
    "from PIL import ImageFile\n",
    "ImageFile.LOAD_TRUNCATED_IMAGES = True\n",
    "## end of import for image load error fix\n",
    "from matplotlib.pyplot import imshow\n",
    "import random\n",
    "import shutil\n",
    "import cv2\n",
    "%matplotlib inline"
   ]
  },
  {
   "cell_type": "code",
   "execution_count": 13,
   "metadata": {},
   "outputs": [],
   "source": [
    "def prep_category_dataset(dataset_dir, dest_dir):\n",
    "    category_dict = {}\n",
    "    for image_f in glob.glob(\"%s/*\" % dataset_dir):\n",
    "        category = \"_\".join(os.path.basename(image_f).split(\"_\")[:-1])\n",
    "        if category not in category_dict:\n",
    "            category_dict[category] = 1\n",
    "            os.makedirs(os.path.join(dest_dir, category), exist_ok=True)\n",
    "        else:\n",
    "            category_dict[category] += 1\n",
    "        shutil.move(image_f, os.path.join(dest_dir, category, os.path.basename(image_f)))\n",
    "    return category_dict"
   ]
  },
  {
   "cell_type": "code",
   "execution_count": 14,
   "metadata": {},
   "outputs": [
    {
     "data": {
      "text/plain": [
       "9532"
      ]
     },
     "execution_count": 14,
     "metadata": {},
     "output_type": "execute_result"
    }
   ],
   "source": [
    "data_dir = \"../datasets/Stanford40_actions/JPEGImages/\"\n",
    "dest_dir = \"../datasets/Stanford40_actions/images/\"\n",
    "len(glob.glob(\"%s/*\" % data_dir))"
   ]
  },
  {
   "cell_type": "code",
   "execution_count": 15,
   "metadata": {},
   "outputs": [
    {
     "data": {
      "text/plain": [
       "['../datasets/Stanford40_actions/JPEGImages/jumping_245.jpg',\n",
       " '../datasets/Stanford40_actions/JPEGImages/cooking_257.jpg',\n",
       " '../datasets/Stanford40_actions/JPEGImages/blowing_bubbles_199.jpg',\n",
       " '../datasets/Stanford40_actions/JPEGImages/watching_TV_130.jpg',\n",
       " '../datasets/Stanford40_actions/JPEGImages/blowing_bubbles_092.jpg',\n",
       " '../datasets/Stanford40_actions/JPEGImages/phoning_210.jpg',\n",
       " '../datasets/Stanford40_actions/JPEGImages/texting_message_139.jpg',\n",
       " '../datasets/Stanford40_actions/JPEGImages/waving_hands_066.jpg',\n",
       " '../datasets/Stanford40_actions/JPEGImages/taking_photos_043.jpg',\n",
       " '../datasets/Stanford40_actions/JPEGImages/fishing_093.jpg',\n",
       " '../datasets/Stanford40_actions/JPEGImages/playing_guitar_168.jpg',\n",
       " '../datasets/Stanford40_actions/JPEGImages/smoking_116.jpg',\n",
       " '../datasets/Stanford40_actions/JPEGImages/fishing_056.jpg',\n",
       " '../datasets/Stanford40_actions/JPEGImages/walking_the_dog_240.jpg',\n",
       " '../datasets/Stanford40_actions/JPEGImages/fixing_a_car_144.jpg',\n",
       " '../datasets/Stanford40_actions/JPEGImages/fixing_a_bike_175.jpg',\n",
       " '../datasets/Stanford40_actions/JPEGImages/holding_an_umbrella_248.jpg',\n",
       " '../datasets/Stanford40_actions/JPEGImages/cutting_vegetables_070.jpg',\n",
       " '../datasets/Stanford40_actions/JPEGImages/throwing_frisby_089.jpg',\n",
       " '../datasets/Stanford40_actions/JPEGImages/jumping_230.jpg']"
      ]
     },
     "execution_count": 15,
     "metadata": {},
     "output_type": "execute_result"
    }
   ],
   "source": [
    "glob.glob(\"%s/*\" % data_dir)[:20]"
   ]
  },
  {
   "cell_type": "code",
   "execution_count": 16,
   "metadata": {},
   "outputs": [
    {
     "data": {
      "text/plain": [
       "'holding_an_umbrella'"
      ]
     },
     "execution_count": 16,
     "metadata": {},
     "output_type": "execute_result"
    }
   ],
   "source": [
    "\"_\".join(os.path.basename('../datasets/Stanford40_actions/JPEGImages/holding_an_umbrella_248.jpg').split(\"_\")[:-1])"
   ]
  },
  {
   "cell_type": "code",
   "execution_count": 17,
   "metadata": {},
   "outputs": [],
   "source": [
    "cats = prep_category_dataset(dataset_dir=data_dir, dest_dir=dest_dir)"
   ]
  },
  {
   "cell_type": "code",
   "execution_count": 18,
   "metadata": {},
   "outputs": [
    {
     "data": {
      "text/plain": [
       "{'jumping': 295,\n",
       " 'cooking': 288,\n",
       " 'blowing_bubbles': 259,\n",
       " 'watching_TV': 223,\n",
       " 'phoning': 259,\n",
       " 'texting_message': 193,\n",
       " 'waving_hands': 210,\n",
       " 'taking_photos': 197,\n",
       " 'fishing': 273,\n",
       " 'playing_guitar': 289,\n",
       " 'smoking': 241,\n",
       " 'walking_the_dog': 293,\n",
       " 'fixing_a_car': 251,\n",
       " 'fixing_a_bike': 228,\n",
       " 'holding_an_umbrella': 292,\n",
       " 'cutting_vegetables': 189,\n",
       " 'throwing_frisby': 202,\n",
       " 'looking_through_a_telescope': 203,\n",
       " 'rowing_a_boat': 185,\n",
       " 'washing_dishes': 182,\n",
       " 'reading': 245,\n",
       " 'writing_on_a_book': 246,\n",
       " 'pouring_liquid': 200,\n",
       " 'writing_on_a_board': 183,\n",
       " 'brushing_teeth': 200,\n",
       " 'gardening': 199,\n",
       " 'playing_violin': 260,\n",
       " 'using_a_computer': 230,\n",
       " 'running': 251,\n",
       " 'applauding': 284,\n",
       " 'pushing_a_cart': 235,\n",
       " 'riding_a_bike': 293,\n",
       " 'cutting_trees': 203,\n",
       " 'cleaning_the_floor': 212,\n",
       " 'drinking': 256,\n",
       " 'feeding_a_horse': 287,\n",
       " 'riding_a_horse': 296,\n",
       " 'climbing': 295,\n",
       " 'looking_through_a_microscope': 191,\n",
       " 'shooting_an_arrow': 214}"
      ]
     },
     "execution_count": 18,
     "metadata": {},
     "output_type": "execute_result"
    }
   ],
   "source": [
    "cats"
   ]
  },
  {
   "cell_type": "code",
   "execution_count": 19,
   "metadata": {},
   "outputs": [],
   "source": [
    "def create_category_dataframes(dataset_dir):\n",
    "    \"\"\"\n",
    "        create dataframes with relative image url, action tag per row\n",
    "        relative directories will be created as follows [this is needed for custom image classifier]\n",
    "        \n",
    "        images/whiteboard/0068.JPG receipt\n",
    "        images/whiteboard/0069.JPG receipt\n",
    "        images/whiteboard/0070.JPG receipt\n",
    "        images/receipt/IMG_2118.JPG whiteboard\n",
    "        images/receipt/IMG_2119.JPG whiteboard\n",
    "        images/other/IMG_005.JPG other\n",
    "        images/other/IMG_006.JPG other\n",
    "        \n",
    "        ....\n",
    "    \"\"\"\n",
    "    category_list = []\n",
    "    for cat_dir in glob.glob(\"%s/*\" % dataset_dir):\n",
    "        category = os.path.basename(cat_dir)\n",
    "        rel_dirname = \"images\"\n",
    "        for image in glob.glob(\"%s/%s/*\" % (dataset_dir, category)):\n",
    "            im_name = os.path.basename(image)\n",
    "            category_list.append([\"%s/%s/%s\" % (rel_dirname, category, im_name), category])\n",
    "    df_cat = pd.DataFrame(category_list, columns=['image_rel_path', 'action'])\n",
    "    df_cat.to_csv(\"stanford40_dataset.csv\", sep='\\t', encoding='utf-8', index=False)\n",
    "    return df_cat"
   ]
  },
  {
   "cell_type": "code",
   "execution_count": 20,
   "metadata": {},
   "outputs": [],
   "source": [
    "_df_cat = create_category_dataframes(dest_dir)"
   ]
  },
  {
   "cell_type": "code",
   "execution_count": 22,
   "metadata": {},
   "outputs": [
    {
     "data": {
      "text/plain": [
       "riding_a_horse                  296\n",
       "climbing                        295\n",
       "jumping                         295\n",
       "walking_the_dog                 293\n",
       "riding_a_bike                   293\n",
       "holding_an_umbrella             292\n",
       "playing_guitar                  289\n",
       "cooking                         288\n",
       "feeding_a_horse                 287\n",
       "applauding                      284\n",
       "fishing                         273\n",
       "playing_violin                  260\n",
       "phoning                         259\n",
       "blowing_bubbles                 259\n",
       "drinking                        256\n",
       "fixing_a_car                    251\n",
       "running                         251\n",
       "writing_on_a_book               246\n",
       "reading                         245\n",
       "smoking                         241\n",
       "pushing_a_cart                  235\n",
       "using_a_computer                230\n",
       "fixing_a_bike                   228\n",
       "watching_TV                     223\n",
       "shooting_an_arrow               214\n",
       "cleaning_the_floor              212\n",
       "waving_hands                    210\n",
       "looking_through_a_telescope     203\n",
       "cutting_trees                   203\n",
       "throwing_frisby                 202\n",
       "pouring_liquid                  200\n",
       "brushing_teeth                  200\n",
       "gardening                       199\n",
       "taking_photos                   197\n",
       "texting_message                 193\n",
       "looking_through_a_microscope    191\n",
       "cutting_vegetables              189\n",
       "rowing_a_boat                   185\n",
       "writing_on_a_board              183\n",
       "washing_dishes                  182\n",
       "Name: action, dtype: int64"
      ]
     },
     "execution_count": 22,
     "metadata": {},
     "output_type": "execute_result"
    }
   ],
   "source": [
    "_df_cat['action'].value_counts()"
   ]
  },
  {
   "cell_type": "code",
   "execution_count": 23,
   "metadata": {},
   "outputs": [
    {
     "data": {
      "text/html": [
       "<div>\n",
       "<style scoped>\n",
       "    .dataframe tbody tr th:only-of-type {\n",
       "        vertical-align: middle;\n",
       "    }\n",
       "\n",
       "    .dataframe tbody tr th {\n",
       "        vertical-align: top;\n",
       "    }\n",
       "\n",
       "    .dataframe thead th {\n",
       "        text-align: right;\n",
       "    }\n",
       "</style>\n",
       "<table border=\"1\" class=\"dataframe\">\n",
       "  <thead>\n",
       "    <tr style=\"text-align: right;\">\n",
       "      <th></th>\n",
       "      <th>image_rel_path</th>\n",
       "      <th>action</th>\n",
       "    </tr>\n",
       "  </thead>\n",
       "  <tbody>\n",
       "    <tr>\n",
       "      <th>7143</th>\n",
       "      <td>images/applauding/applauding_116.jpg</td>\n",
       "      <td>applauding</td>\n",
       "    </tr>\n",
       "    <tr>\n",
       "      <th>157</th>\n",
       "      <td>images/blowing_bubbles/blowing_bubbles_175.jpg</td>\n",
       "      <td>blowing_bubbles</td>\n",
       "    </tr>\n",
       "    <tr>\n",
       "      <th>7936</th>\n",
       "      <td>images/brushing_teeth/brushing_teeth_143.jpg</td>\n",
       "      <td>brushing_teeth</td>\n",
       "    </tr>\n",
       "    <tr>\n",
       "      <th>1533</th>\n",
       "      <td>images/cleaning_the_floor/cleaning_the_floor_0...</td>\n",
       "      <td>cleaning_the_floor</td>\n",
       "    </tr>\n",
       "    <tr>\n",
       "      <th>1956</th>\n",
       "      <td>images/climbing/climbing_107.jpg</td>\n",
       "      <td>climbing</td>\n",
       "    </tr>\n",
       "    <tr>\n",
       "      <th>6246</th>\n",
       "      <td>images/cooking/cooking_261.jpg</td>\n",
       "      <td>cooking</td>\n",
       "    </tr>\n",
       "    <tr>\n",
       "      <th>5118</th>\n",
       "      <td>images/cutting_trees/cutting_trees_013.jpg</td>\n",
       "      <td>cutting_trees</td>\n",
       "    </tr>\n",
       "    <tr>\n",
       "      <th>3562</th>\n",
       "      <td>images/cutting_vegetables/cutting_vegetables_1...</td>\n",
       "      <td>cutting_vegetables</td>\n",
       "    </tr>\n",
       "    <tr>\n",
       "      <th>7624</th>\n",
       "      <td>images/drinking/drinking_163.jpg</td>\n",
       "      <td>drinking</td>\n",
       "    </tr>\n",
       "    <tr>\n",
       "      <th>1108</th>\n",
       "      <td>images/feeding_a_horse/feeding_a_horse_230.jpg</td>\n",
       "      <td>feeding_a_horse</td>\n",
       "    </tr>\n",
       "    <tr>\n",
       "      <th>2894</th>\n",
       "      <td>images/fishing/fishing_167.jpg</td>\n",
       "      <td>fishing</td>\n",
       "    </tr>\n",
       "    <tr>\n",
       "      <th>8460</th>\n",
       "      <td>images/fixing_a_bike/fixing_a_bike_226.jpg</td>\n",
       "      <td>fixing_a_bike</td>\n",
       "    </tr>\n",
       "    <tr>\n",
       "      <th>6724</th>\n",
       "      <td>images/fixing_a_car/fixing_a_car_060.jpg</td>\n",
       "      <td>fixing_a_car</td>\n",
       "    </tr>\n",
       "    <tr>\n",
       "      <th>3001</th>\n",
       "      <td>images/gardening/gardening_188.jpg</td>\n",
       "      <td>gardening</td>\n",
       "    </tr>\n",
       "    <tr>\n",
       "      <th>8207</th>\n",
       "      <td>images/holding_an_umbrella/holding_an_umbrella...</td>\n",
       "      <td>holding_an_umbrella</td>\n",
       "    </tr>\n",
       "    <tr>\n",
       "      <th>7434</th>\n",
       "      <td>images/jumping/jumping_081.jpg</td>\n",
       "      <td>jumping</td>\n",
       "    </tr>\n",
       "    <tr>\n",
       "      <th>5052</th>\n",
       "      <td>images/looking_through_a_microscope/looking_th...</td>\n",
       "      <td>looking_through_a_microscope</td>\n",
       "    </tr>\n",
       "    <tr>\n",
       "      <th>9107</th>\n",
       "      <td>images/looking_through_a_telescope/looking_thr...</td>\n",
       "      <td>looking_through_a_telescope</td>\n",
       "    </tr>\n",
       "    <tr>\n",
       "      <th>6743</th>\n",
       "      <td>images/phoning/phoning_123.jpg</td>\n",
       "      <td>phoning</td>\n",
       "    </tr>\n",
       "    <tr>\n",
       "      <th>9515</th>\n",
       "      <td>images/playing_guitar/playing_guitar_122.jpg</td>\n",
       "      <td>playing_guitar</td>\n",
       "    </tr>\n",
       "    <tr>\n",
       "      <th>5359</th>\n",
       "      <td>images/playing_violin/playing_violin_224.jpg</td>\n",
       "      <td>playing_violin</td>\n",
       "    </tr>\n",
       "    <tr>\n",
       "      <th>351</th>\n",
       "      <td>images/pouring_liquid/pouring_liquid_113.jpg</td>\n",
       "      <td>pouring_liquid</td>\n",
       "    </tr>\n",
       "    <tr>\n",
       "      <th>765</th>\n",
       "      <td>images/pushing_a_cart/pushing_a_cart_075.jpg</td>\n",
       "      <td>pushing_a_cart</td>\n",
       "    </tr>\n",
       "    <tr>\n",
       "      <th>2279</th>\n",
       "      <td>images/reading/reading_194.jpg</td>\n",
       "      <td>reading</td>\n",
       "    </tr>\n",
       "    <tr>\n",
       "      <th>4619</th>\n",
       "      <td>images/riding_a_bike/riding_a_bike_286.jpg</td>\n",
       "      <td>riding_a_bike</td>\n",
       "    </tr>\n",
       "    <tr>\n",
       "      <th>3436</th>\n",
       "      <td>images/riding_a_horse/riding_a_horse_211.jpg</td>\n",
       "      <td>riding_a_horse</td>\n",
       "    </tr>\n",
       "    <tr>\n",
       "      <th>1008</th>\n",
       "      <td>images/rowing_a_boat/rowing_a_boat_173.jpg</td>\n",
       "      <td>rowing_a_boat</td>\n",
       "    </tr>\n",
       "    <tr>\n",
       "      <th>4065</th>\n",
       "      <td>images/running/running_115.jpg</td>\n",
       "      <td>running</td>\n",
       "    </tr>\n",
       "    <tr>\n",
       "      <th>6060</th>\n",
       "      <td>images/shooting_an_arrow/shooting_an_arrow_089...</td>\n",
       "      <td>shooting_an_arrow</td>\n",
       "    </tr>\n",
       "    <tr>\n",
       "      <th>4197</th>\n",
       "      <td>images/smoking/smoking_173.jpg</td>\n",
       "      <td>smoking</td>\n",
       "    </tr>\n",
       "    <tr>\n",
       "      <th>8911</th>\n",
       "      <td>images/taking_photos/taking_photos_177.jpg</td>\n",
       "      <td>taking_photos</td>\n",
       "    </tr>\n",
       "    <tr>\n",
       "      <th>3794</th>\n",
       "      <td>images/texting_message/texting_message_153.jpg</td>\n",
       "      <td>texting_message</td>\n",
       "    </tr>\n",
       "    <tr>\n",
       "      <th>2515</th>\n",
       "      <td>images/throwing_frisby/throwing_frisby_175.jpg</td>\n",
       "      <td>throwing_frisby</td>\n",
       "    </tr>\n",
       "    <tr>\n",
       "      <th>4668</th>\n",
       "      <td>images/using_a_computer/using_a_computer_134.jpg</td>\n",
       "      <td>using_a_computer</td>\n",
       "    </tr>\n",
       "    <tr>\n",
       "      <th>8622</th>\n",
       "      <td>images/walking_the_dog/walking_the_dog_010.jpg</td>\n",
       "      <td>walking_the_dog</td>\n",
       "    </tr>\n",
       "    <tr>\n",
       "      <th>2343</th>\n",
       "      <td>images/washing_dishes/washing_dishes_147.jpg</td>\n",
       "      <td>washing_dishes</td>\n",
       "    </tr>\n",
       "    <tr>\n",
       "      <th>474</th>\n",
       "      <td>images/watching_TV/watching_TV_067.jpg</td>\n",
       "      <td>watching_TV</td>\n",
       "    </tr>\n",
       "    <tr>\n",
       "      <th>5962</th>\n",
       "      <td>images/waving_hands/waving_hands_056.jpg</td>\n",
       "      <td>waving_hands</td>\n",
       "    </tr>\n",
       "    <tr>\n",
       "      <th>1661</th>\n",
       "      <td>images/writing_on_a_board/writing_on_a_board_1...</td>\n",
       "      <td>writing_on_a_board</td>\n",
       "    </tr>\n",
       "    <tr>\n",
       "      <th>5750</th>\n",
       "      <td>images/writing_on_a_book/writing_on_a_book_231...</td>\n",
       "      <td>writing_on_a_book</td>\n",
       "    </tr>\n",
       "  </tbody>\n",
       "</table>\n",
       "</div>"
      ],
      "text/plain": [
       "                                         image_rel_path  \\\n",
       "7143               images/applauding/applauding_116.jpg   \n",
       "157      images/blowing_bubbles/blowing_bubbles_175.jpg   \n",
       "7936       images/brushing_teeth/brushing_teeth_143.jpg   \n",
       "1533  images/cleaning_the_floor/cleaning_the_floor_0...   \n",
       "1956                   images/climbing/climbing_107.jpg   \n",
       "6246                     images/cooking/cooking_261.jpg   \n",
       "5118         images/cutting_trees/cutting_trees_013.jpg   \n",
       "3562  images/cutting_vegetables/cutting_vegetables_1...   \n",
       "7624                   images/drinking/drinking_163.jpg   \n",
       "1108     images/feeding_a_horse/feeding_a_horse_230.jpg   \n",
       "2894                     images/fishing/fishing_167.jpg   \n",
       "8460         images/fixing_a_bike/fixing_a_bike_226.jpg   \n",
       "6724           images/fixing_a_car/fixing_a_car_060.jpg   \n",
       "3001                 images/gardening/gardening_188.jpg   \n",
       "8207  images/holding_an_umbrella/holding_an_umbrella...   \n",
       "7434                     images/jumping/jumping_081.jpg   \n",
       "5052  images/looking_through_a_microscope/looking_th...   \n",
       "9107  images/looking_through_a_telescope/looking_thr...   \n",
       "6743                     images/phoning/phoning_123.jpg   \n",
       "9515       images/playing_guitar/playing_guitar_122.jpg   \n",
       "5359       images/playing_violin/playing_violin_224.jpg   \n",
       "351        images/pouring_liquid/pouring_liquid_113.jpg   \n",
       "765        images/pushing_a_cart/pushing_a_cart_075.jpg   \n",
       "2279                     images/reading/reading_194.jpg   \n",
       "4619         images/riding_a_bike/riding_a_bike_286.jpg   \n",
       "3436       images/riding_a_horse/riding_a_horse_211.jpg   \n",
       "1008         images/rowing_a_boat/rowing_a_boat_173.jpg   \n",
       "4065                     images/running/running_115.jpg   \n",
       "6060  images/shooting_an_arrow/shooting_an_arrow_089...   \n",
       "4197                     images/smoking/smoking_173.jpg   \n",
       "8911         images/taking_photos/taking_photos_177.jpg   \n",
       "3794     images/texting_message/texting_message_153.jpg   \n",
       "2515     images/throwing_frisby/throwing_frisby_175.jpg   \n",
       "4668   images/using_a_computer/using_a_computer_134.jpg   \n",
       "8622     images/walking_the_dog/walking_the_dog_010.jpg   \n",
       "2343       images/washing_dishes/washing_dishes_147.jpg   \n",
       "474              images/watching_TV/watching_TV_067.jpg   \n",
       "5962           images/waving_hands/waving_hands_056.jpg   \n",
       "1661  images/writing_on_a_board/writing_on_a_board_1...   \n",
       "5750  images/writing_on_a_book/writing_on_a_book_231...   \n",
       "\n",
       "                            action  \n",
       "7143                    applauding  \n",
       "157                blowing_bubbles  \n",
       "7936                brushing_teeth  \n",
       "1533            cleaning_the_floor  \n",
       "1956                      climbing  \n",
       "6246                       cooking  \n",
       "5118                 cutting_trees  \n",
       "3562            cutting_vegetables  \n",
       "7624                      drinking  \n",
       "1108               feeding_a_horse  \n",
       "2894                       fishing  \n",
       "8460                 fixing_a_bike  \n",
       "6724                  fixing_a_car  \n",
       "3001                     gardening  \n",
       "8207           holding_an_umbrella  \n",
       "7434                       jumping  \n",
       "5052  looking_through_a_microscope  \n",
       "9107   looking_through_a_telescope  \n",
       "6743                       phoning  \n",
       "9515                playing_guitar  \n",
       "5359                playing_violin  \n",
       "351                 pouring_liquid  \n",
       "765                 pushing_a_cart  \n",
       "2279                       reading  \n",
       "4619                 riding_a_bike  \n",
       "3436                riding_a_horse  \n",
       "1008                 rowing_a_boat  \n",
       "4065                       running  \n",
       "6060             shooting_an_arrow  \n",
       "4197                       smoking  \n",
       "8911                 taking_photos  \n",
       "3794               texting_message  \n",
       "2515               throwing_frisby  \n",
       "4668              using_a_computer  \n",
       "8622               walking_the_dog  \n",
       "2343                washing_dishes  \n",
       "474                    watching_TV  \n",
       "5962                  waving_hands  \n",
       "1661            writing_on_a_board  \n",
       "5750             writing_on_a_book  "
      ]
     },
     "execution_count": 23,
     "metadata": {},
     "output_type": "execute_result"
    }
   ],
   "source": [
    "# sample across categories with min samples (=2) per category\n",
    "_df_cat.groupby('action', group_keys=False).apply(lambda x: x.sample(min(len(x), 1)))"
   ]
  },
  {
   "cell_type": "code",
   "execution_count": 41,
   "metadata": {},
   "outputs": [],
   "source": [
    "# dir naming convention is n_{images per category}_k_{images per category threshold in entire dataset}\n",
    "train_dir = \"../datasets/Stanford40_actions/fastai/train/\"\n",
    "eval_dir = \"../datasets/Stanford40_actions/fastai/valid/\"\n",
    "test_dir = \"../datasets/Stanford40_actions/fastai/test/\"\n",
    "os.makedirs(train_dir, exist_ok=True)\n",
    "os.makedirs(test_dir, exist_ok=True)\n",
    "os.makedirs(eval_dir, exist_ok=True)"
   ]
  },
  {
   "cell_type": "code",
   "execution_count": 25,
   "metadata": {},
   "outputs": [
    {
     "data": {
      "text/plain": [
       "image_rel_path    5532\n",
       "action            5532\n",
       "dtype: int64"
      ]
     },
     "execution_count": 25,
     "metadata": {},
     "output_type": "execute_result"
    }
   ],
   "source": [
    "# pick 50 samples per category for training\n",
    "train_min_sample_per_cat = 50\n",
    "train_50_df = _df_cat.groupby('action', group_keys=False).apply(lambda x: x.sample(min(len(x), train_min_sample_per_cat)))\n",
    "\n",
    "# remove already sampled ones\n",
    "res_df = _df_cat[~_df_cat.isin(train_50_df)].dropna()\n",
    "\n",
    "# pick 50 samples per category for validation\n",
    "val_min_sample_per_cat = 50\n",
    "val_50_df = res_df.groupby('action', group_keys=False).apply(lambda x: x.sample(min(len(x), val_min_sample_per_cat)))\n",
    "\n",
    "# remove already sampled ones\n",
    "res_df = res_df[~res_df.isin(val_50_df)].dropna()\n",
    "\n",
    "# res_df becomes your holdout set\n",
    "res_df.count()"
   ]
  },
  {
   "cell_type": "code",
   "execution_count": 26,
   "metadata": {},
   "outputs": [
    {
     "data": {
      "text/plain": [
       "image_rel_path    2000\n",
       "action            2000\n",
       "dtype: int64"
      ]
     },
     "execution_count": 26,
     "metadata": {},
     "output_type": "execute_result"
    }
   ],
   "source": [
    "train_50_df.count()"
   ]
  },
  {
   "cell_type": "code",
   "execution_count": 28,
   "metadata": {},
   "outputs": [
    {
     "data": {
      "text/plain": [
       "reading                         50\n",
       "pouring_liquid                  50\n",
       "shooting_an_arrow               50\n",
       "fixing_a_car                    50\n",
       "writing_on_a_board              50\n",
       "jumping                         50\n",
       "using_a_computer                50\n",
       "fixing_a_bike                   50\n",
       "climbing                        50\n",
       "cutting_vegetables              50\n",
       "watching_TV                     50\n",
       "riding_a_horse                  50\n",
       "brushing_teeth                  50\n",
       "phoning                         50\n",
       "looking_through_a_microscope    50\n",
       "playing_violin                  50\n",
       "smoking                         50\n",
       "riding_a_bike                   50\n",
       "throwing_frisby                 50\n",
       "taking_photos                   50\n",
       "playing_guitar                  50\n",
       "writing_on_a_book               50\n",
       "blowing_bubbles                 50\n",
       "gardening                       50\n",
       "cutting_trees                   50\n",
       "drinking                        50\n",
       "waving_hands                    50\n",
       "fishing                         50\n",
       "looking_through_a_telescope     50\n",
       "pushing_a_cart                  50\n",
       "holding_an_umbrella             50\n",
       "cleaning_the_floor              50\n",
       "texting_message                 50\n",
       "running                         50\n",
       "applauding                      50\n",
       "walking_the_dog                 50\n",
       "rowing_a_boat                   50\n",
       "washing_dishes                  50\n",
       "cooking                         50\n",
       "feeding_a_horse                 50\n",
       "Name: action, dtype: int64"
      ]
     },
     "execution_count": 28,
     "metadata": {},
     "output_type": "execute_result"
    }
   ],
   "source": [
    "train_50_df['action'].value_counts()"
   ]
  },
  {
   "cell_type": "code",
   "execution_count": 31,
   "metadata": {},
   "outputs": [
    {
     "data": {
      "text/plain": [
       "image_rel_path    2000\n",
       "action            2000\n",
       "dtype: int64"
      ]
     },
     "execution_count": 31,
     "metadata": {},
     "output_type": "execute_result"
    }
   ],
   "source": [
    "val_50_df.count()"
   ]
  },
  {
   "cell_type": "code",
   "execution_count": 32,
   "metadata": {},
   "outputs": [
    {
     "data": {
      "text/plain": [
       "reading                         50\n",
       "pouring_liquid                  50\n",
       "shooting_an_arrow               50\n",
       "fixing_a_car                    50\n",
       "writing_on_a_board              50\n",
       "jumping                         50\n",
       "using_a_computer                50\n",
       "fixing_a_bike                   50\n",
       "climbing                        50\n",
       "cutting_vegetables              50\n",
       "watching_TV                     50\n",
       "riding_a_horse                  50\n",
       "brushing_teeth                  50\n",
       "phoning                         50\n",
       "looking_through_a_microscope    50\n",
       "playing_violin                  50\n",
       "smoking                         50\n",
       "riding_a_bike                   50\n",
       "throwing_frisby                 50\n",
       "taking_photos                   50\n",
       "playing_guitar                  50\n",
       "writing_on_a_book               50\n",
       "blowing_bubbles                 50\n",
       "gardening                       50\n",
       "cutting_trees                   50\n",
       "drinking                        50\n",
       "waving_hands                    50\n",
       "fishing                         50\n",
       "looking_through_a_telescope     50\n",
       "pushing_a_cart                  50\n",
       "holding_an_umbrella             50\n",
       "cleaning_the_floor              50\n",
       "texting_message                 50\n",
       "running                         50\n",
       "applauding                      50\n",
       "walking_the_dog                 50\n",
       "rowing_a_boat                   50\n",
       "washing_dishes                  50\n",
       "cooking                         50\n",
       "feeding_a_horse                 50\n",
       "Name: action, dtype: int64"
      ]
     },
     "execution_count": 32,
     "metadata": {},
     "output_type": "execute_result"
    }
   ],
   "source": [
    "val_50_df['action'].value_counts()"
   ]
  },
  {
   "cell_type": "code",
   "execution_count": 34,
   "metadata": {},
   "outputs": [
    {
     "data": {
      "text/plain": [
       "riding_a_horse                  196\n",
       "climbing                        195\n",
       "jumping                         195\n",
       "walking_the_dog                 193\n",
       "riding_a_bike                   193\n",
       "holding_an_umbrella             192\n",
       "playing_guitar                  189\n",
       "cooking                         188\n",
       "feeding_a_horse                 187\n",
       "applauding                      184\n",
       "fishing                         173\n",
       "playing_violin                  160\n",
       "phoning                         159\n",
       "blowing_bubbles                 159\n",
       "drinking                        156\n",
       "fixing_a_car                    151\n",
       "running                         151\n",
       "writing_on_a_book               146\n",
       "reading                         145\n",
       "smoking                         141\n",
       "pushing_a_cart                  135\n",
       "using_a_computer                130\n",
       "fixing_a_bike                   128\n",
       "watching_TV                     123\n",
       "shooting_an_arrow               114\n",
       "cleaning_the_floor              112\n",
       "waving_hands                    110\n",
       "looking_through_a_telescope     103\n",
       "cutting_trees                   103\n",
       "throwing_frisby                 102\n",
       "pouring_liquid                  100\n",
       "brushing_teeth                  100\n",
       "gardening                        99\n",
       "taking_photos                    97\n",
       "texting_message                  93\n",
       "looking_through_a_microscope     91\n",
       "cutting_vegetables               89\n",
       "rowing_a_boat                    85\n",
       "writing_on_a_board               83\n",
       "washing_dishes                   82\n",
       "Name: action, dtype: int64"
      ]
     },
     "execution_count": 34,
     "metadata": {},
     "output_type": "execute_result"
    }
   ],
   "source": [
    "res_df['action'].value_counts()"
   ]
  },
  {
   "cell_type": "code",
   "execution_count": 36,
   "metadata": {},
   "outputs": [],
   "source": [
    "# save train dataset\n",
    "train_50_df.to_csv(\"../datasets/Stanford40_actions/train50.txt\", sep='\\t', index=False, header=None)\n"
   ]
  },
  {
   "cell_type": "code",
   "execution_count": 37,
   "metadata": {},
   "outputs": [],
   "source": [
    "# save validation dataset\n",
    "val_50_df.to_csv(\"../datasets/Stanford40_actions/val50.txt\", sep='\\t', index=False, header=None)\n"
   ]
  },
  {
   "cell_type": "code",
   "execution_count": 38,
   "metadata": {},
   "outputs": [],
   "source": [
    "# save test dataset\n",
    "res_df.to_csv(\"../datasets/Stanford40_actions/test50.txt\", sep='\\t', index=False, header=None)\n"
   ]
  },
  {
   "cell_type": "code",
   "execution_count": 44,
   "metadata": {},
   "outputs": [],
   "source": [
    "for index, row in train_50_df.iterrows():\n",
    "    rel = row['image_rel_path']\n",
    "    cat = os.path.dirname(rel).split(\"/\")[1]\n",
    "    im_name = os.path.basename(rel)\n",
    "    os.makedirs(os.path.join(train_dir, cat), exist_ok=True)\n",
    "    shutil.copyfile(os.path.join(dest_dir, cat, im_name), os.path.join(train_dir, cat, im_name))"
   ]
  },
  {
   "cell_type": "code",
   "execution_count": 45,
   "metadata": {},
   "outputs": [
    {
     "name": "stdout",
     "output_type": "stream",
     "text": [
      "2000\n",
      "40\n"
     ]
    }
   ],
   "source": [
    "# train image set\n",
    "print(len(glob.glob(\"%s/*/*\" % train_dir)))\n",
    "\n",
    "# train image categories\n",
    "print(len(glob.glob(\"%s/*\" % train_dir)))"
   ]
  },
  {
   "cell_type": "code",
   "execution_count": 46,
   "metadata": {},
   "outputs": [],
   "source": [
    "for index, row in val_50_df.iterrows():\n",
    "    rel = row['image_rel_path']\n",
    "    cat = os.path.dirname(rel).split(\"/\")[1]\n",
    "    im_name = os.path.basename(rel)\n",
    "    os.makedirs(os.path.join(eval_dir, cat), exist_ok=True)\n",
    "    shutil.copyfile(os.path.join(dest_dir, cat, im_name), os.path.join(eval_dir, cat, im_name))"
   ]
  },
  {
   "cell_type": "code",
   "execution_count": 47,
   "metadata": {},
   "outputs": [
    {
     "name": "stdout",
     "output_type": "stream",
     "text": [
      "2000\n",
      "40\n"
     ]
    }
   ],
   "source": [
    "# eval image set\n",
    "print(len(glob.glob(\"%s/*/*\" % eval_dir)))\n",
    "\n",
    "# eval image categories\n",
    "print(len(glob.glob(\"%s/*\" % eval_dir)))"
   ]
  },
  {
   "cell_type": "code",
   "execution_count": 48,
   "metadata": {},
   "outputs": [],
   "source": [
    "# finally create test dir from res_df\n",
    "for index, row in res_df.iterrows():\n",
    "    rel = row['image_rel_path']\n",
    "    cat = os.path.dirname(rel).split(\"/\")[1]\n",
    "    im_name = os.path.basename(rel)\n",
    "    os.makedirs(os.path.join(test_dir, cat), exist_ok=True)\n",
    "    shutil.copyfile(os.path.join(dest_dir, cat, im_name), os.path.join(test_dir, cat, im_name))"
   ]
  },
  {
   "cell_type": "code",
   "execution_count": 49,
   "metadata": {},
   "outputs": [
    {
     "name": "stdout",
     "output_type": "stream",
     "text": [
      "5532\n",
      "40\n"
     ]
    }
   ],
   "source": [
    "# test image set\n",
    "print(len(glob.glob(\"%s/*/*\" % test_dir)))\n",
    "\n",
    "# test image categories\n",
    "print(len(glob.glob(\"%s/*\" % test_dir)))"
   ]
  },
  {
   "cell_type": "code",
   "execution_count": 50,
   "metadata": {},
   "outputs": [],
   "source": [
    "# sanity checks on number of categories\n",
    "assert len(glob.glob(\"%s/*\" % train_dir)) == len(glob.glob(\"%s/*\" % eval_dir))\n",
    "assert len(glob.glob(\"%s/*\" % train_dir)) == len(glob.glob(\"%s/*\" % test_dir))"
   ]
  },
  {
   "cell_type": "code",
   "execution_count": null,
   "metadata": {},
   "outputs": [],
   "source": []
  }
 ],
 "metadata": {
  "kernelspec": {
   "display_name": "Python 3",
   "language": "python",
   "name": "python3"
  },
  "language_info": {
   "codemirror_mode": {
    "name": "ipython",
    "version": 3
   },
   "file_extension": ".py",
   "mimetype": "text/x-python",
   "name": "python",
   "nbconvert_exporter": "python",
   "pygments_lexer": "ipython3",
   "version": "3.6.8"
  }
 },
 "nbformat": 4,
 "nbformat_minor": 2
}
